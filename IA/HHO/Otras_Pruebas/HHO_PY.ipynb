{
 "cells": [
  {
   "cell_type": "code",
   "execution_count": 52,
   "metadata": {},
   "outputs": [
    {
     "name": "stdout",
     "output_type": "stream",
     "text": [
      "Mejor solución encontrada: [40, 61, 150, 5, 69, 38, 141, 28, 1, 13, 37, 25, 5, 48, 114, 39, 52, 93, 8, 84, 80, 36, 132, 58, 72, 57, 13, 60, 71, 21, 13, 46, 33, 131, 27, 68, 85, 143, 90, 60, 27, 74, 125, 56, 29, 95, 99, 102, 119, 48, 125, 84, 120, 57, 18, 119, 144, 74, 24, 20, 117, 4, 130, 23, 137, 53, 35, 12, 11, 148, 122, 105, 133, 139, 64, 81, 90, 120, 21, 3, 55, 108, 124, 4, 124, 111, 120, 64, 89, 139, 4, 105, 9, 87, 65, 65, 101, 141, 117, 38, 42, 41, 150, 1, 3, 47, 25, 30, 77, 24, 94, 126, 14, 35, 74, 21, 64, 106, 148, 142, 39, 111, 30, 29, 68, 49, 60, 54, 102, 140, 33, 103, 38, 94, 99, 134, 39, 86, 135, 6, 120, 17, 115, 107, 133, 123, 52, 9, 106, 3]\n",
      "Fitness de la mejor solución encontrada: 2963\n"
     ]
    }
   ],
   "source": [
    "# Algorimos de optimizacion de harris hawks\n",
    "\n",
    "import random\n",
    "\n",
    "def initialize_population(num_elements, num_containers):\n",
    "    population = []\n",
    "    for _ in range(num_elements):\n",
    "        solution = [random.randint(1, num_containers) for _ in range(num_elements)]\n",
    "        population.append(solution)\n",
    "    return population\n",
    "\n",
    "def evaluate_solution(solution, sizes, capacities):\n",
    "    container_loads = [0] * len(capacities)\n",
    "    for i, element in enumerate(solution):\n",
    "        container_loads[element - 1] += sizes[i]\n",
    "    unused_space = sum(max(0, capacities[i] - container_loads[i]) for i in range(len(capacities)))\n",
    "    return unused_space\n",
    "\n",
    "def harris_hawks_optimization(num_elements, num_containers, sizes, capacities, max_iterations):\n",
    "    population = initialize_population(num_elements, num_containers)\n",
    "    best_solution = None\n",
    "    best_fitness = float('inf')\n",
    "\n",
    "    for _ in range(max_iterations):\n",
    "        for i, solution in enumerate(population):\n",
    "            fitness = evaluate_solution(solution, sizes, capacities)\n",
    "            if fitness < best_fitness:\n",
    "                best_fitness = fitness\n",
    "                best_solution = solution\n",
    "\n",
    "            random_solution = random.choice(population)\n",
    "            if fitness < evaluate_solution(random_solution, sizes, capacities):\n",
    "                for j in range(num_elements):\n",
    "                    if random.random() < 0.5:\n",
    "                        solution[j] = random_solution[j]\n",
    "\n",
    "            for j in range(num_elements):\n",
    "                if random.random() < 0.5:\n",
    "                    solution[j] = best_solution[j]\n",
    "\n",
    "    return best_solution\n",
    "\n",
    "# Ejemplo de uso\n",
    "num_elements = 150\n",
    "num_containers = 150\n",
    "sizes = [42, 69, 67, 57, 93, 90, 38, 36, 45, 42, 33, 79, 27, 57, 44, 84, 86, 92, 46, 38, 85,\n",
    "33, 82, 73, 49, 70, 59, 23, 57, 72, 74, 69, 33, 42, 28, 46, 30, 64, 29, 74, 41, 49, 55, 98, 80, 32, 25, 38,\n",
    "82, 30, 35, 39, 57, 84, 62, 50, 55, 27, 30, 36, 20, 78, 47, 26, 45, 41, 58, 98, 91, 96, 73, 84, 37, 93, 91,\n",
    "43, 73, 85, 81, 79, 71, 80, 76, 83, 41, 78, 70, 23, 42, 87, 43, 84, 60, 55, 49, 78, 73, 62, 36, 44, 94, 69,\n",
    "32, 96, 70, 84, 58, 78, 25, 80, 58, 66, 83, 24, 98, 60, 42, 43, 43, 39, 97, 57, 81, 62, 75, 81, 23, 43, 50,\n",
    "38, 60, 58, 70, 88, 36, 90, 37, 45, 45, 39, 44, 53, 70, 24, 82, 81, 47, 97, 35, 65, 74, 68, 49, 55, 52, 94,\n",
    "95, 29, 99, 20, 22, 25, 49, 46, 98, 59, 98, 60, 23, 72, 33, 98, 80, 95, 78, 57, 67, 53, 47, 53, 36, 38, 92,\n",
    "30, 80, 32, 97, 39, 80, 72, 55, 41, 60, 67, 53, 65, 95, 20, 66, 78, 98, 47, 100, 85, 53, 53, 67, 27, 22, 61,\n",
    "43, 52, 76, 64, 61, 29, 30, 46, 79, 66, 27, 79, 98, 90, 22, 75, 57, 67, 36, 70, 99, 48, 43, 45, 71, 100, 88,\n",
    "48, 27, 39, 38, 100, 60, 42, 20, 69, 24, 23, 92, 32 ]\n",
    "capacities = [10, 8, 7]*150\n",
    "max_iterations = 100\n",
    "\n",
    "best_solution = harris_hawks_optimization(num_elements, num_containers, sizes, capacities, max_iterations)\n",
    "print(\"Mejor solución encontrada:\", best_solution)\n",
    "print(\"Fitness de la mejor solución encontrada:\", evaluate_solution(best_solution, sizes, capacities))"
   ]
  }
 ],
 "metadata": {
  "kernelspec": {
   "display_name": "python3_11",
   "language": "python",
   "name": "python3"
  },
  "language_info": {
   "codemirror_mode": {
    "name": "ipython",
    "version": 3
   },
   "file_extension": ".py",
   "mimetype": "text/x-python",
   "name": "python",
   "nbconvert_exporter": "python",
   "pygments_lexer": "ipython3",
   "version": "3.11.0"
  },
  "orig_nbformat": 4
 },
 "nbformat": 4,
 "nbformat_minor": 2
}
