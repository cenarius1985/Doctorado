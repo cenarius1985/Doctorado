{
 "cells": [
  {
   "cell_type": "code",
   "execution_count": 40,
   "metadata": {},
   "outputs": [
    {
     "name": "stdout",
     "output_type": "stream",
     "text": [
      "Mejor solución encontrada: [0, 0, 1, 1, 2, 3, 0, 2, 3, 4, 4, 5, 1, 4, 5, 6, 7, 8, 6, 7, 9, 8, 10, 11, 9, 10, 11, 2, 12, 12, 13, 13, 14, 14, 5, 14, 14, 15, 15, 16, 15, 16, 17, 18, 17, 18, 7, 19, 19, 19, 20, 20, 20, 21, 21, 22, 22, 8, 22, 23, 4, 23, 24, 16, 24, 24, 25, 26, 25, 27, 28, 29, 23, 30, 31, 26, 28, 32, 33, 34, 33, 35, 36, 37, 27, 38, 34, 12, 29, 39, 30, 40, 31, 32, 35, 41, 36, 37, 38, 39, 42, 41, 38, 43, 44, 45, 40, 44, 29, 46, 42, 45, 47, 43, 48, 46, 47, 48, 49, 49, 50, 49, 51, 51, 52, 53, 35, 50, 52, 53, 54, 54, 55, 56, 55, 57, 55, 56, 57, 58, 58, 58, 59, 43, 59, 60, 60, 61, 61, 62]\n",
      "Número de contenedores en la mejor solución encontrada: 63\n"
     ]
    }
   ],
   "source": [
    "import random\n",
    "\n",
    "def initialize_population(num_elements, sizes, container_capacity):\n",
    "    population = []\n",
    "    for _ in range(num_elements):\n",
    "        solution = []\n",
    "        containers = []\n",
    "        for i in range(num_elements):\n",
    "            # Buscar un contenedor donde el elemento pueda ser colocado\n",
    "            for j, current_load in enumerate(containers):\n",
    "                if current_load + sizes[i] <= container_capacity:\n",
    "                    solution.append(j)\n",
    "                    containers[j] += sizes[i]\n",
    "                    break\n",
    "            else:\n",
    "                # Si no se encontró un contenedor, crear uno nuevo\n",
    "                containers.append(sizes[i])\n",
    "                solution.append(len(containers) - 1)\n",
    "        population.append(solution)\n",
    "    return population\n",
    "\n",
    "def evaluate_solution(solution, sizes, container_capacity):\n",
    "    num_containers = max(solution) + 1\n",
    "    container_loads = [0] * num_containers\n",
    "    for i, element in enumerate(solution):\n",
    "        container_loads[element] += sizes[i]\n",
    "    over_capacity = sum(max(0, container_loads[i] - container_capacity) for i in range(num_containers))\n",
    "    # Si los elementos no caben en los contenedores, penalizar la solución\n",
    "    if over_capacity > 0:\n",
    "        return float('inf')\n",
    "    else:\n",
    "        return num_containers\n",
    "import matplotlib.pyplot as plt\n",
    "\n",
    "def harris_hawks_optimization(num_elements, sizes, container_capacity, max_iterations):\n",
    "    population = initialize_population(num_elements, sizes, container_capacity)\n",
    "    best_solution = None\n",
    "    best_fitness = float('inf')\n",
    "    best_fitness_per_iteration = []\n",
    "\n",
    "    for _ in range(max_iterations):\n",
    "        for i, solution in enumerate(population):\n",
    "            fitness = evaluate_solution(solution, sizes, container_capacity)\n",
    "            if fitness < best_fitness:\n",
    "                best_fitness = fitness\n",
    "                best_solution = solution\n",
    "            best_fitness_per_iteration.append(best_fitness)\n",
    "\n",
    "            random_solution = random.choice(population)\n",
    "            if fitness < evaluate_solution(random_solution, sizes, container_capacity):\n",
    "                for j in range(num_elements):\n",
    "                    if random.random() < 0.5:\n",
    "                        solution[j] = random_solution[j]\n",
    "\n",
    "            for j in range(num_elements):\n",
    "                if random.random() < 0.5:\n",
    "                    solution[j] = best_solution[j]\n",
    "\n",
    "    return best_solution, best_fitness, best_fitness_per_iteration\n",
    "\n",
    "\n",
    "# Parametros conocidos\n",
    "Numero_Elementos = 150\n",
    "weight = [42, 69, 67, 57, 93, 90, 38, 36, 45, 42, 33, 79, 27, 57, 44, 84, 86, 92, 46, 38, 85,\n",
    "33, 82, 73, 49, 70, 59, 23, 57, 72, 74, 69, 33, 42, 28, 46, 30, 64, 29, 74, 41, 49, 55, 98, 80, 32, 25, 38,\n",
    "82, 30, 35, 39, 57, 84, 62, 50, 55, 27, 30, 36, 20, 78, 47, 26, 45, 41, 58, 98, 91, 96, 73, 84, 37, 93, 91,\n",
    "43, 73, 85, 81, 79, 71, 80, 76, 83, 41, 78, 70, 23, 42, 87, 43, 84, 60, 55, 49, 78, 73, 62, 36, 44, 94, 69,\n",
    "32, 96, 70, 84, 58, 78, 25, 80, 58, 66, 83, 24, 98, 60, 42, 43, 43, 39, 97, 57, 81, 62, 75, 81, 23, 43, 50,\n",
    "38, 60, 58, 70, 88, 36, 90, 37, 45, 45, 39, 44, 53, 70, 24, 82, 81, 47, 97, 35, 65, 74, 68, 49, 55, 52, 94,\n",
    "95, 29, 99, 20, 22, 25, 49, 46, 98, 59, 98, 60, 23, 72, 33, 98, 80, 95, 78, 57, 67, 53, 47, 53, 36, 38, 92,\n",
    "30, 80, 32, 97, 39, 80, 72, 55, 41, 60, 67, 53, 65, 95, 20, 66, 78, 98, 47, 100, 85, 53, 53, 67, 27, 22, 61,\n",
    "43, 52, 76, 64, 61, 29, 30, 46, 79, 66, 27, 79, 98, 90, 22, 75, 57, 67, 36, 70, 99, 48, 43, 45, 71, 100, 88,\n",
    "48, 27, 39, 38, 100, 60, 42, 20, 69, 24, 23, 92, 32 ]\n",
    "Capacidad_Container = 152\n",
    "Iteraciones = 1000\n",
    "\n",
    "best_solution, best_fitness, best_fitness_per_iteration = harris_hawks_optimization(Numero_Elementos, weight , Capacidad_Container, Iteraciones)\n",
    "print(\"Mejor solución encontrada:\", best_solution)\n",
    "print(\"Número de contenedores en la mejor solución encontrada:\", best_fitness)\n"
   ]
  },
  {
   "cell_type": "code",
   "execution_count": 39,
   "metadata": {},
   "outputs": [
    {
     "data": {
      "image/png": "[encoded data removed]",
      "text/plain": [
       "<Figure size 640x480 with 1 Axes>"
      ]
     },
     "metadata": {},
     "output_type": "display_data"
    }
   ],
   "source": [
    "\n",
    "plt.plot(best_fitness_per_iteration)\n",
    "plt.xlabel('Iteration')\n",
    "plt.ylabel('Number of Bins')\n",
    "plt.title('Number of Bins vs Iteration')\n",
    "plt.show()"
   ]
  }
 ],
 "metadata": {
  "kernelspec": {
   "display_name": "python3_11",
   "language": "python",
   "name": "python3"
  },
  "language_info": {
   "codemirror_mode": {
    "name": "ipython",
    "version": 3
   },
   "file_extension": ".py",
   "mimetype": "text/x-python",
   "name": "python",
   "nbconvert_exporter": "python",
   "pygments_lexer": "ipython3",
   "version": "3.11.0"
  },
  "orig_nbformat": 4
 },
 "nbformat": 4,
 "nbformat_minor": 2
}
