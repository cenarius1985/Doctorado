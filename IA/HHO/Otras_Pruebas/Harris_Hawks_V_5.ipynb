{
  "nbformat": 4,
  "nbformat_minor": 0,
  "metadata": {
    "colab": {
      "provenance": []
    },
    "kernelspec": {
      "name": "python3",
      "display_name": "Python 3"
    },
    "language_info": {
      "name": "python"
    }
  },
  "cells": [
    {
      "cell_type": "code",
      "source": [
        "def bin_packing_cost(solution, item_sizes, bin_size):\n",
        "    bins = []\n",
        "    for i in solution:\n",
        "        for bin in bins:\n",
        "            if sum(bin) + item_sizes[i] <= bin_size:\n",
        "                bin.append(item_sizes[i])\n",
        "                break\n",
        "        else:\n",
        "            bins.append([item_sizes[i]])\n",
        "    return len(bins)"
      ],
      "metadata": {
        "id": "gKd-CrJtl_kE"
      },
      "execution_count": 29,
      "outputs": []
    },
    {
      "cell_type": "code",
      "source": [
        "def harris_hawks_bin_packing(n_items, item_sizes, bin_size, num_of_hawks, max_iter):\n",
        "    # Generar soluciones iniciales\n",
        "    solutions = [generate_initial_solution(n_items) for _ in range(num_of_hawks)]\n",
        "    \n",
        "    # Lista para almacenar el número de bins en cada iteración\n",
        "    num_bins_per_iteration = []\n",
        "    \n",
        "    for _ in range(max_iter):\n",
        "        # Calcular costos de las soluciones actuales\n",
        "        costs = [bin_packing_cost(sol, item_sizes, bin_size) for sol in solutions]\n",
        "        \n",
        "        # Encontrar la mejor solución hasta ahora\n",
        "        best_solution = solutions[costs.index(min(costs))]\n",
        "        \n",
        "        # Almacenar el número de bins de la mejor solución en esta iteración\n",
        "        num_bins_per_iteration.append(min(costs))\n",
        "        \n",
        "        for i in range(num_of_hawks):\n",
        "            # Generar una nueva solución en la vecindad de la solución actual\n",
        "            new_solution = move(solutions[i])\n",
        "            \n",
        "            # Si la nueva solución es mejor, la adoptamos\n",
        "            if bin_packing_cost(new_solution, item_sizes, bin_size) < costs[i]:\n",
        "                solutions[i] = new_solution\n",
        "\n",
        "    # Devolver la mejor solución encontrada y la lista del número de bins en cada iteración\n",
        "    costs = [bin_packing_cost(sol, item_sizes, bin_size) for sol in solutions]\n",
        "    best_solution = solutions[costs.index(min(costs))]\n",
        "    return best_solution, min(costs), num_bins_per_iteration"
      ],
      "metadata": {
        "id": "Evhgr6YtqEf0"
      },
      "execution_count": 30,
      "outputs": []
    },
    {
      "cell_type": "code",
      "source": [
        "def generate_initial_solution(n_items):\n",
        "    return random.sample(range(n_items), n_items)\n",
        "\n",
        "def move(solution):\n",
        "    new_solution = solution.copy()\n",
        "    i, j = random.sample(range(len(solution)), 2)\n",
        "    new_solution[i], new_solution[j] = new_solution[j], new_solution[i]\n",
        "    return new_solution"
      ],
      "metadata": {
        "id": "S9yfQwPomBYA"
      },
      "execution_count": 31,
      "outputs": []
    },
    {
      "cell_type": "code",
      "source": [
        "# Parámetros conocidos\n",
        "num_contenedores  = 150\n",
        "peso = [42, 69, 67, 57, 93, 90, 38, 36, 45, 42, 33, 79, 27, 57, 44, 84, 86, 92, 46, 38, 85,33,82, 73, 49,\n",
        "70, 59, 23, 57, 72, 74, 69, 33, 42, 28, 46, 30, 64, 29, 74, 41, 49, 55, 98, 80, 32, 25, 38,\n",
        "82, 30, 35, 39, 57, 84, 62, 50, 55, 27, 30, 36, 20, 78, 47, 26, 45, 41, 58, 98, 91, 96, 73,\n",
        "84, 37, 93, 91,43, 73, 85, 81, 79, 71, 80, 76, 83, 41, 78, 70, 23, 42, 87, 43, 84, 60, 55,\n",
        "49, 78, 73, 62, 36, 44, 94, 69,32, 96, 70, 84, 58, 78, 25, 80, 58, 66, 83, 24, 98, 60, 42,\n",
        "43, 43, 39, 97, 57, 81, 62, 75, 81, 23, 43, 50,38, 60, 58, 70, 88, 36, 90, 37, 45, 45, 39,\n",
        "44, 53, 70, 24, 82, 81, 47, 97, 35, 65, 74, 68, 49, 55, 52, 94,95, 29, 99, 20, 22, 25, 49,\n",
        "46, 98, 59, 98, 60, 23, 72, 33, 98, 80, 95, 78, 57, 67, 53, 47, 53, 36, 38, 92, 30, 80, 32,\n",
        "97, 39, 80, 72, 55, 41, 60, 67, 53, 65, 95, 20, 66, 78, 98, 47, 100, 85, 53, 53, 67, 27, 22, 61,\n",
        "43, 52, 76, 64, 61, 29, 30, 46, 79, 66, 27, 79, 98, 90, 22, 75, 57, 67, 36, 70, 99, 48, 43,\n",
        "45, 71, 100, 88,48, 27, 39, 38, 100, 60, 42, 20, 69, 24, 23, 92, 32 ]\n",
        "Capacidad_Contenedor = 150\n",
        "Iteraciones = 200"
      ],
      "metadata": {
        "id": "5pjKAYlQm_XC"
      },
      "execution_count": 32,
      "outputs": []
    },
    {
      "cell_type": "code",
      "source": [
        "import random\n",
        "\n",
        "# Definir el tamaño de los ítems y el tamaño del contenedor\n",
        "n_items = 150\n",
        "item_sizes = peso.copy()\n",
        "bin_size = 150\n",
        "\n",
        "# Definir el número de \"halcones\" y el número máximo de iteraciones\n",
        "num_of_hawks = 40\n",
        "max_iter = 100\n",
        "\n",
        "# Ejecutar el algoritmo de Harris Hawks para el problema de Bin Packing\n",
        "# best_solution, best_cost = harris_hawks_bin_packing(n_items, item_sizes, bin_size, num_of_hawks, max_iter)\n",
        "\n",
        "# print(f\"La mejor solución encontrada es {best_solution}, que utiliza {best_cost} contenedores.\")"
      ],
      "metadata": {
        "id": "O1EhfkwBmsEa"
      },
      "execution_count": 35,
      "outputs": []
    },
    {
      "cell_type": "code",
      "source": [
        "# Ejecutar el algoritmo de Harris Hawks para el problema de Bin Packing\n",
        "best_solution, best_cost, num_bins_per_iteration = harris_hawks_bin_packing(n_items, item_sizes, bin_size, num_of_hawks, max_iter)\n",
        "\n",
        "# Importar matplotlib para la visualización\n",
        "import matplotlib.pyplot as plt\n",
        "\n",
        "# Crear una figura y un eje\n",
        "fig, ax = plt.subplots()\n",
        "\n",
        "# Trazar el número de bins en función de las iteraciones\n",
        "ax.plot(range(max_iter), num_bins_per_iteration)\n",
        "\n",
        "# Establecer los títulos de la gráfica y los ejes\n",
        "ax.set_title(\"Número de bins en función de las iteraciones\")\n",
        "ax.set_xlabel(\"Iteración\")\n",
        "ax.set_ylabel(\"Número de bins\")\n",
        "\n",
        "# Mostrar la gráfica\n",
        "plt.show()"
      ],
      "metadata": {
        "colab": {
          "base_uri": "https://localhost:8080/",
          "height": 472
        },
        "id": "Cyc_32-4qVyy",
        "outputId": "584eb41a-9170-453d-fb29-abb0b29a5103"
      },
      "execution_count": 36,
      "outputs": [
        {
          "output_type": "display_data",
          "data": {
            "text/plain": [
              "<Figure size 640x480 with 1 Axes>"
            ],
            "image/png": "[encoded data removed]"
          },
          "metadata": {}
        }
      ]
    }
  ]
}